{
 "cells": [
  {
   "cell_type": "markdown",
   "metadata": {},
   "source": [
    "# Test on the Harvard Covid dataset\n",
    "**This notebook goal is to use the PCA circle correlation method on the Harvard covid dataset found here:**  \n",
    "https://github.com/wxwx1993/PM_COVID/"
   ]
  },
  {
   "cell_type": "markdown",
   "metadata": {},
   "source": [
    "##### Usual imports"
   ]
  },
  {
   "cell_type": "code",
   "execution_count": 1,
   "metadata": {},
   "outputs": [],
   "source": [
    "import numpy as np\n",
    "import pandas as pd\n",
    "import matplotlib.pyplot as plt\n",
    "from mpl_toolkits.mplot3d import Axes3D\n",
    "\n",
    "from sklearn import decomposition\n",
    "from sklearn import datasets\n",
    "from scipy.spatial import distance\n",
    "from geopy.distance import geodesic\n",
    "from geopy.geocoders import Nominatim"
   ]
  },
  {
   "cell_type": "markdown",
   "metadata": {},
   "source": [
    "##### Loading the pm2.5 particle dataset and the death ratio by country in USA"
   ]
  },
  {
   "cell_type": "code",
   "execution_count": 2,
   "metadata": {},
   "outputs": [
    {
     "data": {
      "text/html": [
       "<div>\n",
       "<style scoped>\n",
       "    .dataframe tbody tr th:only-of-type {\n",
       "        vertical-align: middle;\n",
       "    }\n",
       "\n",
       "    .dataframe tbody tr th {\n",
       "        vertical-align: top;\n",
       "    }\n",
       "\n",
       "    .dataframe thead th {\n",
       "        text-align: right;\n",
       "    }\n",
       "</style>\n",
       "<table border=\"1\" class=\"dataframe\">\n",
       "  <thead>\n",
       "    <tr style=\"text-align: right;\">\n",
       "      <th></th>\n",
       "      <th>fips</th>\n",
       "      <th>pm25</th>\n",
       "    </tr>\n",
       "  </thead>\n",
       "  <tbody>\n",
       "    <tr>\n",
       "      <th>0</th>\n",
       "      <td>1001.0</td>\n",
       "      <td>11.712587</td>\n",
       "    </tr>\n",
       "    <tr>\n",
       "      <th>1</th>\n",
       "      <td>1003.0</td>\n",
       "      <td>10.077723</td>\n",
       "    </tr>\n",
       "    <tr>\n",
       "      <th>2</th>\n",
       "      <td>1005.0</td>\n",
       "      <td>10.981967</td>\n",
       "    </tr>\n",
       "    <tr>\n",
       "      <th>3</th>\n",
       "      <td>1007.0</td>\n",
       "      <td>11.998715</td>\n",
       "    </tr>\n",
       "    <tr>\n",
       "      <th>4</th>\n",
       "      <td>1009.0</td>\n",
       "      <td>11.793023</td>\n",
       "    </tr>\n",
       "    <tr>\n",
       "      <th>...</th>\n",
       "      <td>...</td>\n",
       "      <td>...</td>\n",
       "    </tr>\n",
       "    <tr>\n",
       "      <th>3092</th>\n",
       "      <td>56037.0</td>\n",
       "      <td>4.896375</td>\n",
       "    </tr>\n",
       "    <tr>\n",
       "      <th>3093</th>\n",
       "      <td>56039.0</td>\n",
       "      <td>3.867683</td>\n",
       "    </tr>\n",
       "    <tr>\n",
       "      <th>3094</th>\n",
       "      <td>56041.0</td>\n",
       "      <td>5.088060</td>\n",
       "    </tr>\n",
       "    <tr>\n",
       "      <th>3095</th>\n",
       "      <td>56043.0</td>\n",
       "      <td>5.025529</td>\n",
       "    </tr>\n",
       "    <tr>\n",
       "      <th>3096</th>\n",
       "      <td>56045.0</td>\n",
       "      <td>3.424542</td>\n",
       "    </tr>\n",
       "  </tbody>\n",
       "</table>\n",
       "<p>3097 rows × 2 columns</p>\n",
       "</div>"
      ],
      "text/plain": [
       "         fips       pm25\n",
       "0      1001.0  11.712587\n",
       "1      1003.0  10.077723\n",
       "2      1005.0  10.981967\n",
       "3      1007.0  11.998715\n",
       "4      1009.0  11.793023\n",
       "...       ...        ...\n",
       "3092  56037.0   4.896375\n",
       "3093  56039.0   3.867683\n",
       "3094  56041.0   5.088060\n",
       "3095  56043.0   5.025529\n",
       "3096  56045.0   3.424542\n",
       "\n",
       "[3097 rows x 2 columns]"
      ]
     },
     "execution_count": 2,
     "metadata": {},
     "output_type": "execute_result"
    }
   ],
   "source": [
    "pm25_df = pd.read_csv(\"./Data/county_pm25.csv\")\n",
    "pm25_df = pm25_df.dropna()\n",
    "pm25_df = pm25_df.groupby('fips', as_index=False).agg({'pm25' : 'mean'})\n",
    "pm25_df"
   ]
  },
  {
   "cell_type": "code",
   "execution_count": 3,
   "metadata": {},
   "outputs": [
    {
     "data": {
      "text/html": [
       "<div>\n",
       "<style scoped>\n",
       "    .dataframe tbody tr th:only-of-type {\n",
       "        vertical-align: middle;\n",
       "    }\n",
       "\n",
       "    .dataframe tbody tr th {\n",
       "        vertical-align: top;\n",
       "    }\n",
       "\n",
       "    .dataframe thead th {\n",
       "        text-align: right;\n",
       "    }\n",
       "</style>\n",
       "<table border=\"1\" class=\"dataframe\">\n",
       "  <thead>\n",
       "    <tr style=\"text-align: right;\">\n",
       "      <th></th>\n",
       "      <th>County</th>\n",
       "      <th>County Code</th>\n",
       "      <th>Deaths</th>\n",
       "      <th>Population</th>\n",
       "      <th>Crude Rate</th>\n",
       "    </tr>\n",
       "  </thead>\n",
       "  <tbody>\n",
       "    <tr>\n",
       "      <th>NaN</th>\n",
       "      <td>AL</td>\n",
       "      <td>1001</td>\n",
       "      <td>5338</td>\n",
       "      <td>109652</td>\n",
       "      <td>4868.1</td>\n",
       "    </tr>\n",
       "    <tr>\n",
       "      <th>NaN</th>\n",
       "      <td>AL</td>\n",
       "      <td>1003</td>\n",
       "      <td>22452</td>\n",
       "      <td>526184</td>\n",
       "      <td>4266.9</td>\n",
       "    </tr>\n",
       "    <tr>\n",
       "      <th>NaN</th>\n",
       "      <td>AL</td>\n",
       "      <td>1005</td>\n",
       "      <td>3675</td>\n",
       "      <td>71542</td>\n",
       "      <td>5136.8</td>\n",
       "    </tr>\n",
       "    <tr>\n",
       "      <th>NaN</th>\n",
       "      <td>AL</td>\n",
       "      <td>1007</td>\n",
       "      <td>2685</td>\n",
       "      <td>51438</td>\n",
       "      <td>5219.9</td>\n",
       "    </tr>\n",
       "    <tr>\n",
       "      <th>NaN</th>\n",
       "      <td>AL</td>\n",
       "      <td>1009</td>\n",
       "      <td>7076</td>\n",
       "      <td>146136</td>\n",
       "      <td>4842.1</td>\n",
       "    </tr>\n",
       "    <tr>\n",
       "      <th>...</th>\n",
       "      <td>...</td>\n",
       "      <td>...</td>\n",
       "      <td>...</td>\n",
       "      <td>...</td>\n",
       "      <td>...</td>\n",
       "    </tr>\n",
       "    <tr>\n",
       "      <th>NaN</th>\n",
       "      <td>WY</td>\n",
       "      <td>56037</td>\n",
       "      <td>2991</td>\n",
       "      <td>64222</td>\n",
       "      <td>4657.3</td>\n",
       "    </tr>\n",
       "    <tr>\n",
       "      <th>NaN</th>\n",
       "      <td>WY</td>\n",
       "      <td>56039</td>\n",
       "      <td>946</td>\n",
       "      <td>35161</td>\n",
       "      <td>2690.5</td>\n",
       "    </tr>\n",
       "    <tr>\n",
       "      <th>NaN</th>\n",
       "      <td>WY</td>\n",
       "      <td>56041</td>\n",
       "      <td>1408</td>\n",
       "      <td>32316</td>\n",
       "      <td>4357.0</td>\n",
       "    </tr>\n",
       "    <tr>\n",
       "      <th>NaN</th>\n",
       "      <td>WY</td>\n",
       "      <td>56043</td>\n",
       "      <td>1228</td>\n",
       "      <td>26285</td>\n",
       "      <td>4671.9</td>\n",
       "    </tr>\n",
       "    <tr>\n",
       "      <th>NaN</th>\n",
       "      <td>WY</td>\n",
       "      <td>56045</td>\n",
       "      <td>949</td>\n",
       "      <td>20605</td>\n",
       "      <td>4605.7</td>\n",
       "    </tr>\n",
       "  </tbody>\n",
       "</table>\n",
       "<p>3145 rows × 5 columns</p>\n",
       "</div>"
      ],
      "text/plain": [
       "    County  County Code  Deaths  Population  Crude Rate\n",
       "NaN     AL         1001    5338      109652      4868.1\n",
       "NaN     AL         1003   22452      526184      4266.9\n",
       "NaN     AL         1005    3675       71542      5136.8\n",
       "NaN     AL         1007    2685       51438      5219.9\n",
       "NaN     AL         1009    7076      146136      4842.1\n",
       "..     ...          ...     ...         ...         ...\n",
       "NaN     WY        56037    2991       64222      4657.3\n",
       "NaN     WY        56039     946       35161      2690.5\n",
       "NaN     WY        56041    1408       32316      4357.0\n",
       "NaN     WY        56043    1228       26285      4671.9\n",
       "NaN     WY        56045     949       20605      4605.7\n",
       "\n",
       "[3145 rows x 5 columns]"
      ]
     },
     "execution_count": 3,
     "metadata": {},
     "output_type": "execute_result"
    }
   ],
   "source": [
    "mortality_df = pd.read_csv(\"./Data/county_old_mortality.txt\", sep='\\t')\n",
    "mortality_df['County'] = mortality_df['County'].apply(lambda x: x[-2:])\n",
    "mortality_df"
   ]
  },
  {
   "cell_type": "markdown",
   "metadata": {},
   "source": [
    "##### Merge both dataset using the FIPS (county code)"
   ]
  },
  {
   "cell_type": "code",
   "execution_count": 4,
   "metadata": {},
   "outputs": [
    {
     "data": {
      "text/html": [
       "<div>\n",
       "<style scoped>\n",
       "    .dataframe tbody tr th:only-of-type {\n",
       "        vertical-align: middle;\n",
       "    }\n",
       "\n",
       "    .dataframe tbody tr th {\n",
       "        vertical-align: top;\n",
       "    }\n",
       "\n",
       "    .dataframe thead th {\n",
       "        text-align: right;\n",
       "    }\n",
       "</style>\n",
       "<table border=\"1\" class=\"dataframe\">\n",
       "  <thead>\n",
       "    <tr style=\"text-align: right;\">\n",
       "      <th></th>\n",
       "      <th>Crude Rate</th>\n",
       "      <th>pm25</th>\n",
       "    </tr>\n",
       "    <tr>\n",
       "      <th>County</th>\n",
       "      <th></th>\n",
       "      <th></th>\n",
       "    </tr>\n",
       "  </thead>\n",
       "  <tbody>\n",
       "    <tr>\n",
       "      <th>AL</th>\n",
       "      <td>4868.1</td>\n",
       "      <td>11.712587</td>\n",
       "    </tr>\n",
       "    <tr>\n",
       "      <th>AL</th>\n",
       "      <td>4266.9</td>\n",
       "      <td>10.077723</td>\n",
       "    </tr>\n",
       "    <tr>\n",
       "      <th>AL</th>\n",
       "      <td>5136.8</td>\n",
       "      <td>10.981967</td>\n",
       "    </tr>\n",
       "    <tr>\n",
       "      <th>AL</th>\n",
       "      <td>5219.9</td>\n",
       "      <td>11.998715</td>\n",
       "    </tr>\n",
       "    <tr>\n",
       "      <th>AL</th>\n",
       "      <td>4842.1</td>\n",
       "      <td>11.793023</td>\n",
       "    </tr>\n",
       "    <tr>\n",
       "      <th>...</th>\n",
       "      <td>...</td>\n",
       "      <td>...</td>\n",
       "    </tr>\n",
       "    <tr>\n",
       "      <th>WY</th>\n",
       "      <td>4657.3</td>\n",
       "      <td>4.896375</td>\n",
       "    </tr>\n",
       "    <tr>\n",
       "      <th>WY</th>\n",
       "      <td>2690.5</td>\n",
       "      <td>3.867683</td>\n",
       "    </tr>\n",
       "    <tr>\n",
       "      <th>WY</th>\n",
       "      <td>4357.0</td>\n",
       "      <td>5.088060</td>\n",
       "    </tr>\n",
       "    <tr>\n",
       "      <th>WY</th>\n",
       "      <td>4671.9</td>\n",
       "      <td>5.025529</td>\n",
       "    </tr>\n",
       "    <tr>\n",
       "      <th>WY</th>\n",
       "      <td>4605.7</td>\n",
       "      <td>3.424542</td>\n",
       "    </tr>\n",
       "  </tbody>\n",
       "</table>\n",
       "<p>3096 rows × 2 columns</p>\n",
       "</div>"
      ],
      "text/plain": [
       "        Crude Rate       pm25\n",
       "County                       \n",
       "AL          4868.1  11.712587\n",
       "AL          4266.9  10.077723\n",
       "AL          5136.8  10.981967\n",
       "AL          5219.9  11.998715\n",
       "AL          4842.1  11.793023\n",
       "...            ...        ...\n",
       "WY          4657.3   4.896375\n",
       "WY          2690.5   3.867683\n",
       "WY          4357.0   5.088060\n",
       "WY          4671.9   5.025529\n",
       "WY          4605.7   3.424542\n",
       "\n",
       "[3096 rows x 2 columns]"
      ]
     },
     "execution_count": 4,
     "metadata": {},
     "output_type": "execute_result"
    }
   ],
   "source": [
    "merged_df = mortality_df.merge(pm25_df, left_on='County Code', right_on='fips')\n",
    "\n",
    "main_df = merged_df[['County', 'Crude Rate', 'pm25']]\n",
    "main_df = main_df.set_index('County')\n",
    "main_df"
   ]
  },
  {
   "cell_type": "markdown",
   "metadata": {},
   "source": [
    "##### Apply PCA after normalization"
   ]
  },
  {
   "cell_type": "code",
   "execution_count": 5,
   "metadata": {},
   "outputs": [
    {
     "name": "stdout",
     "output_type": "stream",
     "text": [
      "Singular values: [63.23665332 46.8094614 ]\n"
     ]
    }
   ],
   "source": [
    "df = main_df\n",
    "df_norm = (df-df.mean())/df.std()\n",
    "pca = decomposition.PCA(n_components=2)\n",
    "PCA_df = pd.DataFrame(data = pca.fit_transform(df_norm), columns=['Component #1', 'Component #2'])\n",
    "print(\"Singular values:\", pca.singular_values_)"
   ]
  },
  {
   "cell_type": "markdown",
   "metadata": {},
   "source": [
    "##### Correlation circle"
   ]
  },
  {
   "cell_type": "code",
   "execution_count": 6,
   "metadata": {},
   "outputs": [
    {
     "data": {
      "text/html": [
       "<div>\n",
       "<style scoped>\n",
       "    .dataframe tbody tr th:only-of-type {\n",
       "        vertical-align: middle;\n",
       "    }\n",
       "\n",
       "    .dataframe tbody tr th {\n",
       "        vertical-align: top;\n",
       "    }\n",
       "\n",
       "    .dataframe thead th {\n",
       "        text-align: right;\n",
       "    }\n",
       "</style>\n",
       "<table border=\"1\" class=\"dataframe\">\n",
       "  <thead>\n",
       "    <tr style=\"text-align: right;\">\n",
       "      <th></th>\n",
       "      <th>Crude Rate</th>\n",
       "      <th>pm25</th>\n",
       "    </tr>\n",
       "  </thead>\n",
       "  <tbody>\n",
       "    <tr>\n",
       "      <th>0</th>\n",
       "      <td>-0.707107</td>\n",
       "      <td>-0.707107</td>\n",
       "    </tr>\n",
       "    <tr>\n",
       "      <th>1</th>\n",
       "      <td>-0.707107</td>\n",
       "      <td>0.707107</td>\n",
       "    </tr>\n",
       "  </tbody>\n",
       "</table>\n",
       "</div>"
      ],
      "text/plain": [
       "   Crude Rate      pm25\n",
       "0   -0.707107 -0.707107\n",
       "1   -0.707107  0.707107"
      ]
     },
     "metadata": {},
     "output_type": "display_data"
    },
    {
     "data": {
      "image/png": "[encoded data removed]",
      "text/plain": [
       "<Figure size 720x720 with 1 Axes>"
      ]
     },
     "metadata": {
      "needs_background": "light"
     },
     "output_type": "display_data"
    }
   ],
   "source": [
    "circle_df = pd.DataFrame(data=[[pca.components_[c,n] for n in range(pca.n_components_)] for c in range(pca.n_components_)],\n",
    "             index=[0,1],\n",
    "             columns = df_norm.columns)\n",
    "display(circle_df)\n",
    "\n",
    "\n",
    "# Plot 0 vs 1\n",
    "fig, ax = plt.subplots(figsize=(10,10))\n",
    "plt.xlim(-1.25,1.25)\n",
    "plt.ylim(-1.25,1.25)\n",
    "\n",
    "circle1 = plt.Circle((0, 0), 1, color='k', linestyle='--', fill=False)\n",
    "ax.add_artist(circle1)\n",
    "\n",
    "for c in df_norm:\n",
    "    ax.annotate(c, xy=(circle_df[c][0]/2, circle_df[c][1]/2))\n",
    "    ax.add_artist(plt.arrow(0, 0, circle_df[c][0], circle_df[c][1], head_width=0.05,length_includes_head=True))\n",
    "    \n",
    "ax.set_aspect(1)\n",
    "plt.grid(linestyle='--')\n",
    "plt.xlabel('Component #1')\n",
    "plt.ylabel('Component #2')\n",
    "plt.show()"
   ]
  },
  {
   "cell_type": "markdown",
   "metadata": {},
   "source": [
    "We can see with the correlation circle that both features are not correlated!\n",
    "\n",
    "This can also be observed by looking at the \"raw\" data, there are no clear relation between the *Crude rate* and the concentration of *PM2.5*"
   ]
  },
  {
   "cell_type": "code",
   "execution_count": 7,
   "metadata": {},
   "outputs": [
    {
     "data": {
      "image/png": "[encoded data removed]",
      "text/plain": [
       "<Figure size 720x720 with 1 Axes>"
      ]
     },
     "metadata": {
      "needs_background": "light"
     },
     "output_type": "display_data"
    }
   ],
   "source": [
    "plt.figure(figsize=(10,10))\n",
    "plt.scatter(main_df.iloc[:,0],main_df.iloc[:,1])\n",
    "plt.xlabel('Crude rate')\n",
    "plt.ylabel('Avg PM2.5 [$[\\mu g/m^3$]')\n",
    "plt.show()"
   ]
  },
  {
   "cell_type": "code",
   "execution_count": null,
   "metadata": {},
   "outputs": [],
   "source": []
  }
 ],
 "metadata": {
  "kernelspec": {
   "display_name": "Python 3",
   "language": "python",
   "name": "python3"
  },
  "language_info": {
   "codemirror_mode": {
    "name": "ipython",
    "version": 3
   },
   "file_extension": ".py",
   "mimetype": "text/x-python",
   "name": "python",
   "nbconvert_exporter": "python",
   "pygments_lexer": "ipython3",
   "version": "3.8.3"
  }
 },
 "nbformat": 4,
 "nbformat_minor": 4
}

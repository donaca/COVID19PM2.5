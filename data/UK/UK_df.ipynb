{
 "cells": [
  {
   "cell_type": "code",
   "execution_count": null,
   "metadata": {},
   "outputs": [],
   "source": [
    "import pandas as pd\n",
    "from scipy.spatial import distance\n",
    "import numpy as np\n",
    "from geopy.distance import geodesic\n",
    "from geopy.geocoders import Nominatim"
   ]
  },
  {
   "cell_type": "code",
   "execution_count": null,
   "metadata": {},
   "outputs": [],
   "source": [
    "UK_covid_df = pd.read_csv(\"UK_covid.csv\")\n",
    "UK_covid_df['coord'] = UK_covid_df[['lat','lon']].apply(tuple, axis=1)\n",
    "UK_covid_df = UK_covid_df.drop(columns= ['lat', 'lon'])\n",
    "UK_covid_df"
   ]
  },
  {
   "cell_type": "code",
   "execution_count": null,
   "metadata": {},
   "outputs": [],
   "source": [
    "UK_pol_df = pd.read_csv(\"UK_pol.csv\")\n",
    "UK_pol_df['coord'] = UK_pol_df[['lat','lon']].apply(tuple, axis=1)\n",
    "UK_pol_df = UK_pol_df.drop(columns= ['lat', 'lon'])\n",
    "UK_pol_df.head()"
   ]
  },
  {
   "cell_type": "code",
   "execution_count": null,
   "metadata": {},
   "outputs": [],
   "source": [
    "n = UK_covid_df.shape[0]\n",
    "m = UK_pol_df.shape[0]\n",
    "UK_covid_df['sensor_site_name'] = np.zeros(n)\n",
    "UK_covid_df['distance from the sensor [km]'] = np.zeros(n)\n",
    "dist_vect = np.zeros(m)\n",
    "#associating a station to each UK_covid_df\n",
    "for idx1, row1 in UK_covid_df.iterrows():\n",
    "    pos1= np.array(row1['coord'])\n",
    "    for idx2, row2 in UK_pol_df.iterrows():\n",
    "        pos2 = np.array(row2['coord']) #position of the sensor\n",
    "        dst = distance.euclidean(pos1, pos2)\n",
    "        dist_vect[idx2] = dst\n",
    "    idx_min = np.where(dist_vect == np.amin(dist_vect))[0][0]\n",
    "    UK_covid_df.loc[idx1, 'sensor_site_name'] = UK_pol_df.loc[idx_min,'site']\n",
    "    p = row1['coord'] #sensor's position\n",
    "    s = UK_pol_df.loc[idx_min, 'coord'] #associated sensor position\n",
    "    UK_covid_df.loc[idx1, 'distance from the sensor [km]'] = geodesic(p, s).km"
   ]
  },
  {
   "cell_type": "code",
   "execution_count": null,
   "metadata": {},
   "outputs": [],
   "source": [
    "threshold = 20\n",
    "UK_covid_df = UK_covid_df[UK_covid_df['distance from the sensor [km]'] < threshold]\n",
    "UK_covid_dff = UK_covid_df.groupby(['sensor_site_name'], as_index=False).agg({'# death':  np.sum})"
   ]
  },
  {
   "cell_type": "code",
   "execution_count": 42,
   "metadata": {},
   "outputs": [
    {
     "data": {
      "text/html": [
       "<div>\n",
       "<style scoped>\n",
       "    .dataframe tbody tr th:only-of-type {\n",
       "        vertical-align: middle;\n",
       "    }\n",
       "\n",
       "    .dataframe tbody tr th {\n",
       "        vertical-align: top;\n",
       "    }\n",
       "\n",
       "    .dataframe thead th {\n",
       "        text-align: right;\n",
       "    }\n",
       "</style>\n",
       "<table border=\"1\" class=\"dataframe\">\n",
       "  <thead>\n",
       "    <tr style=\"text-align: right;\">\n",
       "      <th></th>\n",
       "      <th>sensor_site_name</th>\n",
       "      <th># death</th>\n",
       "      <th>site</th>\n",
       "      <th>no2</th>\n",
       "      <th>pm10</th>\n",
       "      <th>pm2.5</th>\n",
       "      <th>coord</th>\n",
       "    </tr>\n",
       "  </thead>\n",
       "  <tbody>\n",
       "    <tr>\n",
       "      <td>0</td>\n",
       "      <td>Birmingham Tyburn</td>\n",
       "      <td>2355</td>\n",
       "      <td>Birmingham Tyburn</td>\n",
       "      <td>31.486575</td>\n",
       "      <td>18.136199</td>\n",
       "      <td>12.977897</td>\n",
       "      <td>(52.51944, -1.8012700000000001)</td>\n",
       "    </tr>\n",
       "    <tr>\n",
       "      <td>1</td>\n",
       "      <td>Bristol</td>\n",
       "      <td>450</td>\n",
       "      <td>Bristol</td>\n",
       "      <td>27.290171</td>\n",
       "      <td>17.094891</td>\n",
       "      <td>12.165736</td>\n",
       "      <td>(51.45523, -2.59665)</td>\n",
       "    </tr>\n",
       "    <tr>\n",
       "      <td>2</td>\n",
       "      <td>Bury</td>\n",
       "      <td>601</td>\n",
       "      <td>Bury</td>\n",
       "      <td>64.735355</td>\n",
       "      <td>23.568150</td>\n",
       "      <td>18.968763</td>\n",
       "      <td>(53.6, -2.3)</td>\n",
       "    </tr>\n",
       "    <tr>\n",
       "      <td>3</td>\n",
       "      <td>Cardiff Centre</td>\n",
       "      <td>800</td>\n",
       "      <td>Cardiff Centre</td>\n",
       "      <td>24.618499</td>\n",
       "      <td>17.752360</td>\n",
       "      <td>11.066149</td>\n",
       "      <td>(51.450590000000005, -3.1867900000000002)</td>\n",
       "    </tr>\n",
       "    <tr>\n",
       "      <td>4</td>\n",
       "      <td>Carlisle</td>\n",
       "      <td>109</td>\n",
       "      <td>Carlisle</td>\n",
       "      <td>25.497863</td>\n",
       "      <td>16.736710</td>\n",
       "      <td>10.123403</td>\n",
       "      <td>(54.8951, -2.9382)</td>\n",
       "    </tr>\n",
       "  </tbody>\n",
       "</table>\n",
       "</div>"
      ],
      "text/plain": [
       "    sensor_site_name  # death               site        no2       pm10  \\\n",
       "0  Birmingham Tyburn     2355  Birmingham Tyburn  31.486575  18.136199   \n",
       "1            Bristol      450            Bristol  27.290171  17.094891   \n",
       "2               Bury      601               Bury  64.735355  23.568150   \n",
       "3     Cardiff Centre      800     Cardiff Centre  24.618499  17.752360   \n",
       "4          Carlisle       109          Carlisle   25.497863  16.736710   \n",
       "\n",
       "       pm2.5                                      coord  \n",
       "0  12.977897            (52.51944, -1.8012700000000001)  \n",
       "1  12.165736                       (51.45523, -2.59665)  \n",
       "2  18.968763                               (53.6, -2.3)  \n",
       "3  11.066149  (51.450590000000005, -3.1867900000000002)  \n",
       "4  10.123403                         (54.8951, -2.9382)  "
      ]
     },
     "execution_count": 42,
     "metadata": {},
     "output_type": "execute_result"
    }
   ],
   "source": [
    "#finally merge the two datasets\n",
    "df_merged =  UK_covid_dff.merge(UK_pol_df, left_on='sensor_site_name', right_on='site')\n",
    "df_merged.head()"
   ]
  },
  {
   "cell_type": "code",
   "execution_count": 41,
   "metadata": {},
   "outputs": [
    {
     "data": {
      "text/html": [
       "<div>\n",
       "<style scoped>\n",
       "    .dataframe tbody tr th:only-of-type {\n",
       "        vertical-align: middle;\n",
       "    }\n",
       "\n",
       "    .dataframe tbody tr th {\n",
       "        vertical-align: top;\n",
       "    }\n",
       "\n",
       "    .dataframe thead th {\n",
       "        text-align: right;\n",
       "    }\n",
       "</style>\n",
       "<table border=\"1\" class=\"dataframe\">\n",
       "  <thead>\n",
       "    <tr style=\"text-align: right;\">\n",
       "      <th></th>\n",
       "      <th># death</th>\n",
       "      <th>no2</th>\n",
       "      <th>pm10</th>\n",
       "      <th>pm2.5</th>\n",
       "    </tr>\n",
       "  </thead>\n",
       "  <tbody>\n",
       "    <tr>\n",
       "      <td>0</td>\n",
       "      <td>2.988487</td>\n",
       "      <td>0.283023</td>\n",
       "      <td>0.033119</td>\n",
       "      <td>0.218368</td>\n",
       "    </tr>\n",
       "    <tr>\n",
       "      <td>1</td>\n",
       "      <td>-0.310476</td>\n",
       "      <td>-0.003832</td>\n",
       "      <td>-0.278193</td>\n",
       "      <td>-0.103365</td>\n",
       "    </tr>\n",
       "    <tr>\n",
       "      <td>2</td>\n",
       "      <td>-0.048983</td>\n",
       "      <td>2.555826</td>\n",
       "      <td>1.657064</td>\n",
       "      <td>2.591620</td>\n",
       "    </tr>\n",
       "    <tr>\n",
       "      <td>3</td>\n",
       "      <td>0.295633</td>\n",
       "      <td>-0.186461</td>\n",
       "      <td>-0.081635</td>\n",
       "      <td>-0.538961</td>\n",
       "    </tr>\n",
       "    <tr>\n",
       "      <td>4</td>\n",
       "      <td>-0.900999</td>\n",
       "      <td>-0.126350</td>\n",
       "      <td>-0.385275</td>\n",
       "      <td>-0.912425</td>\n",
       "    </tr>\n",
       "  </tbody>\n",
       "</table>\n",
       "</div>"
      ],
      "text/plain": [
       "    # death       no2      pm10     pm2.5\n",
       "0  2.988487  0.283023  0.033119  0.218368\n",
       "1 -0.310476 -0.003832 -0.278193 -0.103365\n",
       "2 -0.048983  2.555826  1.657064  2.591620\n",
       "3  0.295633 -0.186461 -0.081635 -0.538961\n",
       "4 -0.900999 -0.126350 -0.385275 -0.912425"
      ]
     },
     "execution_count": 41,
     "metadata": {},
     "output_type": "execute_result"
    }
   ],
   "source": [
    "import numpy as np\n",
    "from mpl_toolkits.mplot3d import Axes3D\n",
    "\n",
    "from sklearn import decomposition\n",
    "df = df_merged.drop(columns = ['sensor_site_name', 'site', 'coord'])\n",
    "\n",
    "# Standardizse the features\n",
    "df_norm = (df-df.mean())/df.std()\n",
    "df_norm.head()"
   ]
  },
  {
   "cell_type": "code",
   "execution_count": 40,
   "metadata": {},
   "outputs": [
    {
     "data": {
      "image/png": "[encoded data removed]",
      "text/plain": [
       "<Figure size 576x576 with 1 Axes>"
      ]
     },
     "metadata": {
      "needs_background": "light"
     },
     "output_type": "display_data"
    }
   ],
   "source": [
    "# Apply PCA\n",
    "nc = 4\n",
    "pca = decomposition.PCA(n_components=nc)\n",
    "principalDf = pd.DataFrame(data = pca.fit_transform(df_norm), columns=['pc #1', 'pc #2', 'pc #3', 'pc #4'])\n",
    "principalDf\n",
    "\n",
    "import matplotlib.pyplot as plt\n",
    "df = principalDf\n",
    "fig = plt.figure(figsize = (8,8))\n",
    "ax = fig.add_subplot(1,1,1) \n",
    "\n",
    "\n",
    "ax.scatter(df.iloc[:,0], df.iloc[:,1])\n",
    "\n",
    "ax.grid()\n",
    "ax.set_xlabel(df.columns[2], fontsize = 15)\n",
    "ax.set_ylabel(df.columns[3], fontsize = 15)\n",
    "ax.set_title('PCA', fontsize = 20)\n",
    "plt.show()"
   ]
  },
  {
   "cell_type": "code",
   "execution_count": null,
   "metadata": {},
   "outputs": [],
   "source": [
    "nc = 4\n",
    "\n",
    "# Apply PCA\n",
    "pca = decomposition.PCA(n_components=nc)\n",
    "PCA_df = pd.DataFrame(data = pca.fit_transform(df_norm), columns=['pc #1', 'pc #2', 'pc #3', 'pc #4'])\n",
    "print(\"Singular values:\", pca.singular_values_)\n",
    "display(PCA_df)\n",
    "\n",
    "\n",
    "# Append the target Label columns\n",
    "target = pd.Series(np.hstack([np.zeros(N//2),np.ones(N//2)]) , name='label')\n",
    "\n",
    "df = pd.concat([df, target], axis = 1)\n",
    "PCA_df = pd.concat([PCA_df, target], axis = 1)\n",
    "PCA_df.head()"
   ]
  }
 ],
 "metadata": {
  "kernelspec": {
   "display_name": "Python 3",
   "language": "python",
   "name": "python3"
  },
  "language_info": {
   "codemirror_mode": {
    "name": "ipython",
    "version": 3
   },
   "file_extension": ".py",
   "mimetype": "text/x-python",
   "name": "python",
   "nbconvert_exporter": "python",
   "pygments_lexer": "ipython3",
   "version": "3.7.4"
  }
 },
 "nbformat": 4,
 "nbformat_minor": 4
}
